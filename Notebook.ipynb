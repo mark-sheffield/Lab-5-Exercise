{
 "cells": [
  {
   "cell_type": "code",
   "execution_count": 15,
   "metadata": {},
   "outputs": [
    {
     "name": "stdin",
     "output_type": "stream",
     "text": [
      "What is your name?: Mark\n",
      "What is your birthday? Please enter as mm/dd/yyyy: 08/04/2002\n"
     ]
    },
    {
     "name": "stdout",
     "output_type": "stream",
     "text": [
      "It will be your birthday soon Mark!\n"
     ]
    }
   ],
   "source": [
    "from datetime import datetime\n",
    "while 2 > 1:\n",
    "    name = input(\"What is your name?:\")\n",
    "    birthday = input(\"What is your birthday? Please enter as mm/dd/yyyy:\")\n",
    "    try:\n",
    "        date1 = datetime.strptime(birthday, \"%m/%d/%Y\")\n",
    "\n",
    "        today = datetime.now()\n",
    "\n",
    "        if(int(date1.month) == int(today.month) and int(date1.day) == int(today.day)):\n",
    "            print(\"Happy Birthday \" + name + \"!!!!!\")\n",
    "        else:\n",
    "            print(\"It will be your birthday soon \" + name + \"!\")\n",
    "        break\n",
    "    except:\n",
    "        print(\"Invalid entry for birthday\\n\")\n"
   ]
  },
  {
   "cell_type": "code",
   "execution_count": null,
   "metadata": {},
   "outputs": [],
   "source": []
  }
 ],
 "metadata": {
  "kernelspec": {
   "display_name": "Python 3",
   "language": "python",
   "name": "python3"
  },
  "language_info": {
   "codemirror_mode": {
    "name": "ipython",
    "version": 3
   },
   "file_extension": ".py",
   "mimetype": "text/x-python",
   "name": "python",
   "nbconvert_exporter": "python",
   "pygments_lexer": "ipython3",
   "version": "3.8.3"
  }
 },
 "nbformat": 4,
 "nbformat_minor": 4
}
